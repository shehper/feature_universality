{
 "cells": [
  {
   "cell_type": "markdown",
   "metadata": {},
   "source": [
    "### Understanding UMAP embeddings"
   ]
  },
  {
   "cell_type": "code",
   "execution_count": 1,
   "metadata": {},
   "outputs": [
    {
     "name": "stderr",
     "output_type": "stream",
     "text": [
      "/home/zara-ss/Documents/feature_universality/env/lib/python3.10/site-packages/tqdm/auto.py:21: TqdmWarning: IProgress not found. Please update jupyter and ipywidgets. See https://ipywidgets.readthedocs.io/en/stable/user_install.html\n",
      "  from .autonotebook import tqdm as notebook_tqdm\n"
     ]
    }
   ],
   "source": [
    "import os\n",
    "import torch\n",
    "import numpy as np\n",
    "from sklearn.cluster import DBSCAN\n",
    "import matplotlib.pyplot as plt\n",
    "import plotly.express as px\n",
    "from univ_utils import get_umap_embeddings, load_model, load_sae\n",
    "device = \"cuda\" if torch.cuda.is_available() else \"cpu\""
   ]
  },
  {
   "cell_type": "code",
   "execution_count": 8,
   "metadata": {},
   "outputs": [],
   "source": [
    "cos_sims_matrix = lambda array: np.triu(array @ array.transpose())\n",
    "cos_sims = lambda array: cos_sims_matrix(array)[cos_sims_matrix(array) != 0].flatten()\n",
    "out_dir = lambda model_name, sae_name: os.path.join(\"sae_checkpoints\", f\"{model_name}-final\", sae_name, \"final_1024000000\")"
   ]
  },
  {
   "cell_type": "markdown",
   "metadata": {},
   "source": [
    "#### Get all UMAP embeddings"
   ]
  },
  {
   "cell_type": "code",
   "execution_count": 13,
   "metadata": {},
   "outputs": [
    {
     "name": "stderr",
     "output_type": "stream",
     "text": [
      "/home/zara-ss/Documents/feature_universality/SAELens/sae_lens/sae.py:145: UserWarning: \n",
      "This SAE has non-empty model_from_pretrained_kwargs. \n",
      "For optimal performance, load the model like so:\n",
      "model = HookedSAETransformer.from_pretrained_no_processing(..., **cfg.model_from_pretrained_kwargs)\n",
      "  warnings.warn(\n",
      "/home/zara-ss/Documents/feature_universality/env/lib/python3.10/site-packages/umap/umap_.py:1952: UserWarning: n_jobs value 1 overridden to 1 by setting random_state. Use no seed for parallelism.\n",
      "  warn(\n",
      "/home/zara-ss/Documents/feature_universality/SAELens/sae_lens/sae.py:145: UserWarning: \n",
      "This SAE has non-empty model_from_pretrained_kwargs. \n",
      "For optimal performance, load the model like so:\n",
      "model = HookedSAETransformer.from_pretrained_no_processing(..., **cfg.model_from_pretrained_kwargs)\n",
      "  warnings.warn(\n",
      "/home/zara-ss/Documents/feature_universality/env/lib/python3.10/site-packages/umap/umap_.py:1952: UserWarning: n_jobs value 1 overridden to 1 by setting random_state. Use no seed for parallelism.\n",
      "  warn(\n",
      "/home/zara-ss/Documents/feature_universality/SAELens/sae_lens/sae.py:145: UserWarning: \n",
      "This SAE has non-empty model_from_pretrained_kwargs. \n",
      "For optimal performance, load the model like so:\n",
      "model = HookedSAETransformer.from_pretrained_no_processing(..., **cfg.model_from_pretrained_kwargs)\n",
      "  warnings.warn(\n",
      "/home/zara-ss/Documents/feature_universality/env/lib/python3.10/site-packages/umap/umap_.py:1952: UserWarning: n_jobs value 1 overridden to 1 by setting random_state. Use no seed for parallelism.\n",
      "  warn(\n",
      "/home/zara-ss/Documents/feature_universality/SAELens/sae_lens/sae.py:145: UserWarning: \n",
      "This SAE has non-empty model_from_pretrained_kwargs. \n",
      "For optimal performance, load the model like so:\n",
      "model = HookedSAETransformer.from_pretrained_no_processing(..., **cfg.model_from_pretrained_kwargs)\n",
      "  warnings.warn(\n",
      "/home/zara-ss/Documents/feature_universality/env/lib/python3.10/site-packages/umap/umap_.py:1952: UserWarning: n_jobs value 1 overridden to 1 by setting random_state. Use no seed for parallelism.\n",
      "  warn(\n"
     ]
    }
   ],
   "source": [
    "model_to_saes_dict = {\"8-128\": \"ngd29532\",\n",
    "                      \"8-256\": \"7g6hq05j\",\n",
    "                      \"8-512\": \"fyqbawtf\",\n",
    "                      \"8-768\": \"443ngubm\",\n",
    "                      }\n",
    "\n",
    "umap_embeddings = {}\n",
    "W_decs = {}\n",
    "for model_name, sae_name in model_to_saes_dict.items():\n",
    "    sae = load_sae(sae_name=sae_name, device=device, ckpt_iter=None, model_name=model_name)\n",
    "    assert sae.cfg.d_in == int(model_name.split(\"-\")[1]), \"You may have loaded the wrong model or SAE\"\n",
    "\n",
    "    W_dec = sae.W_dec.clone().detach().cpu().numpy()\n",
    "    W_decs[(model_name, sae_name)] = W_dec\n",
    "    umap_embeddings[(model_name, sae_name)] = get_umap_embeddings(W_dec)\n"
   ]
  },
  {
   "cell_type": "markdown",
   "metadata": {},
   "source": [
    "#### 8-128"
   ]
  },
  {
   "cell_type": "code",
   "execution_count": 32,
   "metadata": {},
   "outputs": [
    {
     "name": "stderr",
     "output_type": "stream",
     "text": [
      "/tmp/ipykernel_447874/106608998.py:6: UserWarning: No data for colormapping provided via 'c'. Parameters 'cmap' will be ignored\n",
      "  plt.scatter(umap_embedding[:, 0], umap_embedding[:, 1], cmap='viridis')\n"
     ]
    },
    {
     "data": {
      "image/png": "[encoded data removed]",
      "text/plain": [
       "<Figure size 640x480 with 1 Axes>"
      ]
     },
     "metadata": {},
     "output_type": "display_data"
    }
   ],
   "source": [
    "model_name = \"8-128\"\n",
    "sae_name = \"ngd29532\"\n",
    "\n",
    "W_dec = W_decs[(model_name, sae_name)]\n",
    "umap_embedding = umap_embeddings[(model_name, sae_name)]\n",
    "plt.scatter(umap_embedding[:, 0], umap_embedding[:, 1], cmap='viridis')\n",
    "plt.show()"
   ]
  },
  {
   "cell_type": "code",
   "execution_count": 33,
   "metadata": {},
   "outputs": [],
   "source": [
    "top_left_cluster_indices = (umap_embedding[:, 0] < 0.5) & (umap_embedding[:, 1] > 4)\n",
    "bottom_left_cluster_indices = (umap_embedding[:, 0] < 0.5) & (umap_embedding[:, 1] < 2)\n",
    "main_cluster_indices = np.logical_not(np.logical_or(bottom_left_cluster_indices, top_left_cluster_indices))"
   ]
  },
  {
   "cell_type": "code",
   "execution_count": 34,
   "metadata": {},
   "outputs": [],
   "source": [
    "top_left_cluster = umap_embedding[top_left_cluster_indices]\n",
    "bottom_left_cluster = umap_embedding[bottom_left_cluster_indices]\n",
    "main_cluster = umap_embedding[main_cluster_indices]"
   ]
  },
  {
   "cell_type": "code",
   "execution_count": 35,
   "metadata": {},
   "outputs": [
    {
     "name": "stdout",
     "output_type": "stream",
     "text": [
      "0.9999994 0.9999731\n",
      "0.780786 -0.31464383\n",
      "0.0047637247 -0.7826308\n"
     ]
    }
   ],
   "source": [
    "top_left_mutual_cos_sims = cos_sims(W_dec[top_left_cluster_indices])\n",
    "print(np.median(top_left_mutual_cos_sims), np.min(top_left_mutual_cos_sims))\n",
    "bottom_left_mutual_cos_sims = cos_sims(W_dec[bottom_left_cluster_indices])\n",
    "print(np.median(bottom_left_mutual_cos_sims), np.min(bottom_left_mutual_cos_sims))\n",
    "main_mutual_cos_sims = cos_sims(W_dec[main_cluster_indices])\n",
    "print(np.median(main_mutual_cos_sims), np.min(main_mutual_cos_sims))"
   ]
  },
  {
   "cell_type": "markdown",
   "metadata": {},
   "source": [
    "Top left cluster is all pointing in the same direction. Bottom left has a lot more variation but when I looked at the dashboards, I found that they were also uninterpretable. So I will also remove them for now."
   ]
  },
  {
   "cell_type": "code",
   "execution_count": 36,
   "metadata": {},
   "outputs": [],
   "source": [
    "torch.save(main_cluster_indices, os.path.join(out_dir(\"8-128\", \"ngd29532\"), \"main_cluster_indices.pt\"))\n",
    "torch.save(bottom_left_cluster_indices, os.path.join(out_dir(\"8-128\", \"ngd29532\"), \"bottom_left_cluster_indices.pt\"))\n",
    "torch.save(top_left_cluster_indices, os.path.join(out_dir(\"8-128\", \"ngd29532\"), \"top_left_cluster_indices.pt\"))"
   ]
  },
  {
   "cell_type": "code",
   "execution_count": 38,
   "metadata": {},
   "outputs": [],
   "source": [
    "uninterpretable_cluster_indices = np.logical_or(bottom_left_cluster_indices, top_left_cluster_indices)\n",
    "torch.save(uninterpretable_cluster_indices, os.path.join(out_dir(\"8-128\", \"ngd29532\"), \"uninterpretable_cluster_indices.pt\"))\n",
    "torch.save(main_cluster_indices, os.path.join(out_dir(\"8-128\", \"ngd29532\"), \"interpretable_cluster_indices.pt\"))"
   ]
  },
  {
   "cell_type": "markdown",
   "metadata": {},
   "source": [
    "#### 8-256"
   ]
  },
  {
   "cell_type": "code",
   "execution_count": 42,
   "metadata": {},
   "outputs": [
    {
     "name": "stderr",
     "output_type": "stream",
     "text": [
      "/tmp/ipykernel_447874/3683445535.py:6: UserWarning: No data for colormapping provided via 'c'. Parameters 'cmap' will be ignored\n",
      "  plt.scatter(umap_embedding[:, 0], umap_embedding[:, 1], cmap='viridis')\n"
     ]
    },
    {
     "data": {
      "image/png": "[encoded data removed]",
      "text/plain": [
       "<Figure size 640x480 with 1 Axes>"
      ]
     },
     "metadata": {},
     "output_type": "display_data"
    }
   ],
   "source": [
    "model_name = \"8-256\"\n",
    "sae_name = \"7g6hq05j\"\n",
    "\n",
    "W_dec = W_decs[(model_name, sae_name)]\n",
    "umap_embedding = umap_embeddings[(model_name, sae_name)]\n",
    "plt.scatter(umap_embedding[:, 0], umap_embedding[:, 1], cmap='viridis')\n",
    "plt.show()"
   ]
  },
  {
   "cell_type": "code",
   "execution_count": 43,
   "metadata": {},
   "outputs": [
    {
     "name": "stdout",
     "output_type": "stream",
     "text": [
      "0.9999996 -0.4110024\n",
      "0.0045853485 -0.8337815\n"
     ]
    }
   ],
   "source": [
    "right_cluster_indices = (umap_embedding[:, 0] > 7.5)\n",
    "left_cluster_indices = (umap_embedding[:, 0] < 7.5)\n",
    "right_mutual_cos_sims = cos_sims(W_dec[right_cluster_indices])\n",
    "print(np.median(right_mutual_cos_sims), np.min(right_mutual_cos_sims))\n",
    "left_mutual_cos_sims = cos_sims(W_dec[left_cluster_indices])\n",
    "print(np.median(left_mutual_cos_sims), np.min(left_mutual_cos_sims))"
   ]
  },
  {
   "cell_type": "code",
   "execution_count": 44,
   "metadata": {},
   "outputs": [
    {
     "data": {
      "text/plain": [
       "(1040, 23536)"
      ]
     },
     "execution_count": 44,
     "metadata": {},
     "output_type": "execute_result"
    }
   ],
   "source": [
    "right_cluster_indices.sum(), left_cluster_indices.sum()"
   ]
  },
  {
   "cell_type": "code",
   "execution_count": 45,
   "metadata": {},
   "outputs": [
    {
     "data": {
      "image/png": "[encoded data removed]",
      "text/plain": [
       "<Figure size 640x480 with 1 Axes>"
      ]
     },
     "metadata": {},
     "output_type": "display_data"
    }
   ],
   "source": [
    "plt.hist(right_mutual_cos_sims, bins=100)\n",
    "plt.show()"
   ]
  },
  {
   "cell_type": "code",
   "execution_count": 46,
   "metadata": {},
   "outputs": [],
   "source": [
    "torch.save(right_cluster_indices, os.path.join(out_dir(model_name, sae_name), \"uninterpretable_cluster_indices.pt\"))\n",
    "torch.save(left_cluster_indices, os.path.join(out_dir(model_name, sae_name), \"interpretable_cluster_indices.pt\"))"
   ]
  },
  {
   "cell_type": "markdown",
   "metadata": {},
   "source": [
    "Most likely, the right cluster is uninterpretable and left cluster is not. I should check this by making dashboards."
   ]
  },
  {
   "cell_type": "markdown",
   "metadata": {},
   "source": [
    "#### 8-512"
   ]
  },
  {
   "cell_type": "code",
   "execution_count": 47,
   "metadata": {},
   "outputs": [
    {
     "name": "stderr",
     "output_type": "stream",
     "text": [
      "/tmp/ipykernel_447874/195113252.py:6: UserWarning: No data for colormapping provided via 'c'. Parameters 'cmap' will be ignored\n",
      "  plt.scatter(umap_embedding[:, 0], umap_embedding[:, 1], cmap='viridis')\n"
     ]
    },
    {
     "data": {
      "image/png": "[encoded data removed]",
      "text/plain": [
       "<Figure size 640x480 with 1 Axes>"
      ]
     },
     "metadata": {},
     "output_type": "display_data"
    }
   ],
   "source": [
    "model_name = \"8-512\"\n",
    "sae_name = \"fyqbawtf\"\n",
    "\n",
    "W_dec = W_decs[(model_name, sae_name)]\n",
    "umap_embedding = umap_embeddings[(model_name, sae_name)]\n",
    "plt.scatter(umap_embedding[:, 0], umap_embedding[:, 1], cmap='viridis')\n",
    "plt.show()"
   ]
  },
  {
   "cell_type": "code",
   "execution_count": 48,
   "metadata": {},
   "outputs": [
    {
     "name": "stdout",
     "output_type": "stream",
     "text": [
      "0.99538684 -0.08060951\n",
      "0.0032167616 -0.81084824\n"
     ]
    },
    {
     "data": {
      "text/plain": [
       "(253, 24323)"
      ]
     },
     "execution_count": 48,
     "metadata": {},
     "output_type": "execute_result"
    }
   ],
   "source": [
    "left_cluster_indices = (umap_embedding[:, 0] < 0.0)\n",
    "right_cluster_indices = (umap_embedding[:, 0] > 0.0)\n",
    "left_mutual_cos_sims = cos_sims(W_dec[left_cluster_indices])\n",
    "print(np.median(left_mutual_cos_sims), np.min(left_mutual_cos_sims))\n",
    "right_mutual_cos_sims = cos_sims(W_dec[right_cluster_indices])\n",
    "print(np.median(right_mutual_cos_sims), np.min(right_mutual_cos_sims))\n",
    "left_cluster_indices.sum(), right_cluster_indices.sum()\n",
    "## Dashboards"
   ]
  },
  {
   "cell_type": "markdown",
   "metadata": {},
   "source": [
    "Yes so left cluster here is most likely uninterpretable."
   ]
  },
  {
   "cell_type": "code",
   "execution_count": 49,
   "metadata": {},
   "outputs": [],
   "source": [
    "torch.save(left_cluster_indices, os.path.join(out_dir(model_name, sae_name), \"uninterpretable_cluster_indices.pt\"))\n",
    "torch.save(right_cluster_indices, os.path.join(out_dir(model_name, sae_name), \"interpretable_cluster_indices.pt\"))"
   ]
  },
  {
   "cell_type": "markdown",
   "metadata": {},
   "source": [
    "#### 8-768"
   ]
  },
  {
   "cell_type": "code",
   "execution_count": 50,
   "metadata": {},
   "outputs": [
    {
     "name": "stderr",
     "output_type": "stream",
     "text": [
      "/tmp/ipykernel_447874/736370843.py:6: UserWarning: No data for colormapping provided via 'c'. Parameters 'cmap' will be ignored\n",
      "  plt.scatter(umap_embedding[:, 0], umap_embedding[:, 1], cmap='viridis')\n"
     ]
    },
    {
     "data": {
      "image/png": "[encoded data removed]",
      "text/plain": [
       "<Figure size 640x480 with 1 Axes>"
      ]
     },
     "metadata": {},
     "output_type": "display_data"
    }
   ],
   "source": [
    "model_name = \"8-768\"\n",
    "sae_name = \"443ngubm\"\n",
    "\n",
    "W_dec = W_decs[(model_name, sae_name)]\n",
    "umap_embedding = umap_embeddings[(model_name, sae_name)]\n",
    "plt.scatter(umap_embedding[:, 0], umap_embedding[:, 1], cmap='viridis')\n",
    "plt.show()"
   ]
  },
  {
   "cell_type": "code",
   "execution_count": 51,
   "metadata": {},
   "outputs": [
    {
     "name": "stdout",
     "output_type": "stream",
     "text": [
      "0.9943066 0.023957709\n",
      "0.0024038677 -0.86287683\n"
     ]
    },
    {
     "data": {
      "text/plain": [
       "(261, 24315)"
      ]
     },
     "execution_count": 51,
     "metadata": {},
     "output_type": "execute_result"
    }
   ],
   "source": [
    "# right cluster is most likely uninterpretable.\n",
    "right_cluster_indices = (umap_embedding[:, 0] > 10.0)\n",
    "left_cluster_indices = (umap_embedding[:, 0] < 10.0)\n",
    "right_mutual_cos_sims = cos_sims(W_dec[right_cluster_indices])\n",
    "print(np.median(right_mutual_cos_sims), np.min(right_mutual_cos_sims))\n",
    "left_mutual_cos_sims = cos_sims(W_dec[left_cluster_indices])\n",
    "print(np.median(left_mutual_cos_sims), np.min(left_mutual_cos_sims))\n",
    "right_cluster_indices.sum(), left_cluster_indices.sum()\n"
   ]
  },
  {
   "cell_type": "code",
   "execution_count": 52,
   "metadata": {},
   "outputs": [],
   "source": [
    "torch.save(right_cluster_indices, os.path.join(out_dir(model_name, sae_name), \"uninterpretable_cluster_indices.pt\"))\n",
    "torch.save(left_cluster_indices, os.path.join(out_dir(model_name, sae_name), \"interpretable_cluster_indices.pt\"))"
   ]
  },
  {
   "cell_type": "markdown",
   "metadata": {},
   "source": [
    "## Dashboards"
   ]
  },
  {
   "cell_type": "markdown",
   "metadata": {},
   "source": [
    "### Imports and initialization"
   ]
  },
  {
   "cell_type": "code",
   "execution_count": null,
   "metadata": {},
   "outputs": [],
   "source": [
    "# type: ignore\n",
    "try:\n",
    "    import google.colab  \n",
    "    from google.colab import output\n",
    "\n",
    "    COLAB = True\n",
    "    %pip install sae-lens transformer-lens sae-dashboard\n",
    "except:\n",
    "    COLAB = False\n",
    "    from IPython import get_ipython  # type: ignore\n",
    "\n",
    "    ipython = get_ipython()\n",
    "    assert ipython is not None\n",
    "    ipython.run_line_magic(\"load_ext\", \"autoreload\")\n",
    "    ipython.run_line_magic(\"autoreload\", \"2\")\n",
    "\n",
    "# Standard imports\n",
    "import os\n",
    "import torch\n",
    "\n",
    "\n",
    "# Imports for displaying vis in Colab / notebook\n",
    "import webbrowser\n",
    "import http.server\n",
    "import socketserver\n",
    "import threading\n",
    "\n",
    "PORT = 8000\n",
    "\n",
    "torch.set_grad_enabled(False);\n",
    "\n",
    "device = \"cuda\" if torch.cuda.is_available() else \"cpu\"\n",
    "from univ_utils import load_model, load_sae, load_data, get_batch"
   ]
  },
  {
   "cell_type": "code",
   "execution_count": null,
   "metadata": {},
   "outputs": [],
   "source": [
    "# For the most part I'll try to import functions and classes near where they are used\n",
    "# to make it clear where they come from.\n",
    "\n",
    "if torch.backends.mps.is_available():\n",
    "    device = \"mps\"\n",
    "else:\n",
    "    device = \"cuda\" if torch.cuda.is_available() else \"cpu\"\n",
    "\n",
    "print(f\"Device: {device}\")"
   ]
  },
  {
   "cell_type": "code",
   "execution_count": null,
   "metadata": {},
   "outputs": [],
   "source": [
    "def display_vis_inline(filename: str, height: int = 850):\n",
    "    \"\"\"\n",
    "    Displays the HTML files in Colab. Uses global `PORT` variable defined in prev cell, so that each\n",
    "    vis has a unique port without having to define a port within the function.\n",
    "    \"\"\"\n",
    "    if not (COLAB):\n",
    "        webbrowser.open(filename)\n",
    "\n",
    "    else:\n",
    "        global PORT\n",
    "\n",
    "        def serve(directory):\n",
    "            os.chdir(directory)\n",
    "\n",
    "            # Create a handler for serving files\n",
    "            handler = http.server.SimpleHTTPRequestHandler\n",
    "\n",
    "            # Create a socket server with the handler\n",
    "            with socketserver.TCPServer((\"\", PORT), handler) as httpd:\n",
    "                print(f\"Serving files from {directory} on port {PORT}\")\n",
    "                httpd.serve_forever()\n",
    "\n",
    "        thread = threading.Thread(target=serve, args=(\"/content\",))\n",
    "        thread.start()\n",
    "\n",
    "        output.serve_kernel_port_as_iframe(\n",
    "            PORT, path=f\"/{filename}\", height=height, cache_in_notebook=True\n",
    "        )\n",
    "\n",
    "        PORT += 1"
   ]
  },
  {
   "cell_type": "markdown",
   "metadata": {},
   "source": []
  },
  {
   "cell_type": "markdown",
   "metadata": {},
   "source": [
    "### Generating dashboards"
   ]
  },
  {
   "cell_type": "code",
   "execution_count": 9,
   "metadata": {},
   "outputs": [],
   "source": [
    "import random"
   ]
  },
  {
   "cell_type": "code",
   "execution_count": null,
   "metadata": {},
   "outputs": [],
   "source": [
    "data, _ = load_data(dataset=\"openwebtext\", device=device)\n",
    "\n",
    "# TODO: ideally want to do more than 10k tokens\n",
    "owt_tokens, _ = get_batch(data, block_size=sae.cfg.context_size, batch_size=int(1e5))\n",
    "\n",
    "(owt_tokens.shape[0] * owt_tokens.shape[1]) / 1e8"
   ]
  },
  {
   "cell_type": "code",
   "execution_count": null,
   "metadata": {},
   "outputs": [],
   "source": [
    "bottom_left_cluster_indices.sum(), top_left_cluster_indices.sum(), boolean_tensor.sum()"
   ]
  },
  {
   "cell_type": "code",
   "execution_count": null,
   "metadata": {},
   "outputs": [],
   "source": [
    "main_cluster_indices = np.logical_not(np.logical_or(bottom_left_cluster_indices, top_left_cluster_indices))\n",
    "main_cluster_indices.sum()"
   ]
  },
  {
   "cell_type": "code",
   "execution_count": 11,
   "metadata": {},
   "outputs": [],
   "source": [
    "\n"
   ]
  },
  {
   "cell_type": "code",
   "execution_count": 67,
   "metadata": {},
   "outputs": [],
   "source": [
    "random_bottom_left_features = random.choices((bottom_left_cluster_indices).nonzero()[0], k=10)\n",
    "random_top_left_features = random.choices((top_left_cluster_indices).nonzero()[0], k=10)\n",
    "random_main_features = random.choices(main_cluster_indices.nonzero()[0], k=10)"
   ]
  },
  {
   "cell_type": "code",
   "execution_count": 71,
   "metadata": {},
   "outputs": [],
   "source": [
    "features = random_main_features"
   ]
  },
  {
   "cell_type": "code",
   "execution_count": null,
   "metadata": {},
   "outputs": [],
   "source": [
    "features"
   ]
  },
  {
   "cell_type": "code",
   "execution_count": null,
   "metadata": {},
   "outputs": [],
   "source": [
    "from sae_dashboard.sae_vis_data import SaeVisConfig\n",
    "feature_vis_config_gpt = SaeVisConfig(\n",
    "    hook_point=sae.cfg.hook_name,\n",
    "    features=features,\n",
    "    minibatch_size_features=64,\n",
    "    minibatch_size_tokens=256,\n",
    "    verbose=True,\n",
    "    device=device,\n",
    ")\n",
    "\n",
    "from sae_dashboard.sae_vis_runner import SaeVisRunner\n",
    "visualization_data_gpt = SaeVisRunner(feature_vis_config_gpt).run(\n",
    "    encoder=sae,  # type: ignore\n",
    "    model=model,\n",
    "    tokens=owt_tokens[:10000],  # type: ignore\n",
    ")\n",
    "\n",
    "type(visualization_data_gpt)"
   ]
  },
  {
   "cell_type": "code",
   "execution_count": null,
   "metadata": {},
   "outputs": [],
   "source": [
    "from sae_dashboard.data_writing_fns import save_feature_centric_vis\n",
    "features_type = \"top_left\" if features == random_top_left_features else \"bottom_left\" if features == random_bottom_left_features else \"main\"\n",
    "filename_fn = lambda features : f\"dashboards/dashboards_{sae_name}_{features_type}_{'_'.join(map(str, features))}.html\"\n",
    "filename = filename_fn(features)\n",
    "save_feature_centric_vis(sae_vis_data=visualization_data_gpt, filename=filename)\n",
    "display_vis_inline(filename=filename)"
   ]
  },
  {
   "cell_type": "code",
   "execution_count": null,
   "metadata": {},
   "outputs": [],
   "source": []
  }
 ],
 "metadata": {
  "kernelspec": {
   "display_name": "env",
   "language": "python",
   "name": "python3"
  },
  "language_info": {
   "codemirror_mode": {
    "name": "ipython",
    "version": 3
   },
   "file_extension": ".py",
   "mimetype": "text/x-python",
   "name": "python",
   "nbconvert_exporter": "python",
   "pygments_lexer": "ipython3",
   "version": "3.10.15"
  }
 },
 "nbformat": 4,
 "nbformat_minor": 2
}
